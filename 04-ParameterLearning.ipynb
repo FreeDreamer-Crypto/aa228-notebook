{
 "cells": [
  {
   "cell_type": "markdown",
   "metadata": {},
   "source": [
    "# Parameter Learning"
   ]
  },
  {
   "cell_type": "code",
   "execution_count": 1,
   "metadata": {},
   "outputs": [
    {
     "name": "stderr",
     "output_type": "stream",
     "text": [
      "┌ Info: Recompiling stale cache file /Users/shushmanchoudhury/.julia/compiled/v0.7/PGFPlots/XxINN.ji for PGFPlots [3b7a836e-365b-5785-a47d-02c71176b4aa]\n",
      "└ @ Base loading.jl:1185\n"
     ]
    }
   ],
   "source": [
    "using RDatasets\n",
    "using PGFPlots\n",
    "using Distributions"
   ]
  },
  {
   "cell_type": "markdown",
   "metadata": {},
   "source": [
    "## Maximum likelihood parameter learning"
   ]
  },
  {
   "cell_type": "code",
   "execution_count": 2,
   "metadata": {},
   "outputs": [
    {
     "data": {
      "text/html": [
       "<table class=\"data-frame\"><thead><tr><th></th><th>SepalLength</th><th>SepalWidth</th><th>PetalLength</th><th>PetalWidth</th><th>Species</th></tr></thead><tbody><tr><th>1</th><td>5.1</td><td>3.5</td><td>1.4</td><td>0.2</td><td>setosa</td></tr><tr><th>2</th><td>4.9</td><td>3.0</td><td>1.4</td><td>0.2</td><td>setosa</td></tr><tr><th>3</th><td>4.7</td><td>3.2</td><td>1.3</td><td>0.2</td><td>setosa</td></tr><tr><th>4</th><td>4.6</td><td>3.1</td><td>1.5</td><td>0.2</td><td>setosa</td></tr><tr><th>5</th><td>5.0</td><td>3.6</td><td>1.4</td><td>0.2</td><td>setosa</td></tr><tr><th>6</th><td>5.4</td><td>3.9</td><td>1.7</td><td>0.4</td><td>setosa</td></tr><tr><th>7</th><td>4.6</td><td>3.4</td><td>1.4</td><td>0.3</td><td>setosa</td></tr><tr><th>8</th><td>5.0</td><td>3.4</td><td>1.5</td><td>0.2</td><td>setosa</td></tr><tr><th>9</th><td>4.4</td><td>2.9</td><td>1.4</td><td>0.2</td><td>setosa</td></tr><tr><th>10</th><td>4.9</td><td>3.1</td><td>1.5</td><td>0.1</td><td>setosa</td></tr><tr><th>11</th><td>5.4</td><td>3.7</td><td>1.5</td><td>0.2</td><td>setosa</td></tr><tr><th>12</th><td>4.8</td><td>3.4</td><td>1.6</td><td>0.2</td><td>setosa</td></tr><tr><th>13</th><td>4.8</td><td>3.0</td><td>1.4</td><td>0.1</td><td>setosa</td></tr><tr><th>14</th><td>4.3</td><td>3.0</td><td>1.1</td><td>0.1</td><td>setosa</td></tr><tr><th>15</th><td>5.8</td><td>4.0</td><td>1.2</td><td>0.2</td><td>setosa</td></tr><tr><th>16</th><td>5.7</td><td>4.4</td><td>1.5</td><td>0.4</td><td>setosa</td></tr><tr><th>17</th><td>5.4</td><td>3.9</td><td>1.3</td><td>0.4</td><td>setosa</td></tr><tr><th>18</th><td>5.1</td><td>3.5</td><td>1.4</td><td>0.3</td><td>setosa</td></tr><tr><th>19</th><td>5.7</td><td>3.8</td><td>1.7</td><td>0.3</td><td>setosa</td></tr><tr><th>20</th><td>5.1</td><td>3.8</td><td>1.5</td><td>0.3</td><td>setosa</td></tr><tr><th>21</th><td>5.4</td><td>3.4</td><td>1.7</td><td>0.2</td><td>setosa</td></tr><tr><th>22</th><td>5.1</td><td>3.7</td><td>1.5</td><td>0.4</td><td>setosa</td></tr><tr><th>23</th><td>4.6</td><td>3.6</td><td>1.0</td><td>0.2</td><td>setosa</td></tr><tr><th>24</th><td>5.1</td><td>3.3</td><td>1.7</td><td>0.5</td><td>setosa</td></tr><tr><th>25</th><td>4.8</td><td>3.4</td><td>1.9</td><td>0.2</td><td>setosa</td></tr><tr><th>26</th><td>5.0</td><td>3.0</td><td>1.6</td><td>0.2</td><td>setosa</td></tr><tr><th>27</th><td>5.0</td><td>3.4</td><td>1.6</td><td>0.4</td><td>setosa</td></tr><tr><th>28</th><td>5.2</td><td>3.5</td><td>1.5</td><td>0.2</td><td>setosa</td></tr><tr><th>29</th><td>5.2</td><td>3.4</td><td>1.4</td><td>0.2</td><td>setosa</td></tr><tr><th>30</th><td>4.7</td><td>3.2</td><td>1.6</td><td>0.2</td><td>setosa</td></tr><tr><th>&vellip;</th><td>&vellip;</td><td>&vellip;</td><td>&vellip;</td><td>&vellip;</td><td>&vellip;</td></tr></tbody></table>"
      ],
      "text/plain": [
       "150×5 DataFrame\n",
       "│ Row │ SepalLength │ SepalWidth │ PetalLength │ PetalWidth │ Species   │\n",
       "├─────┼─────────────┼────────────┼─────────────┼────────────┼───────────┤\n",
       "│ 1   │ 5.1         │ 3.5        │ 1.4         │ 0.2        │ setosa    │\n",
       "│ 2   │ 4.9         │ 3.0        │ 1.4         │ 0.2        │ setosa    │\n",
       "│ 3   │ 4.7         │ 3.2        │ 1.3         │ 0.2        │ setosa    │\n",
       "│ 4   │ 4.6         │ 3.1        │ 1.5         │ 0.2        │ setosa    │\n",
       "│ 5   │ 5.0         │ 3.6        │ 1.4         │ 0.2        │ setosa    │\n",
       "│ 6   │ 5.4         │ 3.9        │ 1.7         │ 0.4        │ setosa    │\n",
       "│ 7   │ 4.6         │ 3.4        │ 1.4         │ 0.3        │ setosa    │\n",
       "│ 8   │ 5.0         │ 3.4        │ 1.5         │ 0.2        │ setosa    │\n",
       "│ 9   │ 4.4         │ 2.9        │ 1.4         │ 0.2        │ setosa    │\n",
       "│ 10  │ 4.9         │ 3.1        │ 1.5         │ 0.1        │ setosa    │\n",
       "│ 11  │ 5.4         │ 3.7        │ 1.5         │ 0.2        │ setosa    │\n",
       "⋮\n",
       "│ 139 │ 6.0         │ 3.0        │ 4.8         │ 1.8        │ virginica │\n",
       "│ 140 │ 6.9         │ 3.1        │ 5.4         │ 2.1        │ virginica │\n",
       "│ 141 │ 6.7         │ 3.1        │ 5.6         │ 2.4        │ virginica │\n",
       "│ 142 │ 6.9         │ 3.1        │ 5.1         │ 2.3        │ virginica │\n",
       "│ 143 │ 5.8         │ 2.7        │ 5.1         │ 1.9        │ virginica │\n",
       "│ 144 │ 6.8         │ 3.2        │ 5.9         │ 2.3        │ virginica │\n",
       "│ 145 │ 6.7         │ 3.3        │ 5.7         │ 2.5        │ virginica │\n",
       "│ 146 │ 6.7         │ 3.0        │ 5.2         │ 2.3        │ virginica │\n",
       "│ 147 │ 6.3         │ 2.5        │ 5.0         │ 1.9        │ virginica │\n",
       "│ 148 │ 6.5         │ 3.0        │ 5.2         │ 2.0        │ virginica │\n",
       "│ 149 │ 6.2         │ 3.4        │ 5.4         │ 2.3        │ virginica │\n",
       "│ 150 │ 5.9         │ 3.0        │ 5.1         │ 1.8        │ virginica │"
      ]
     },
     "execution_count": 2,
     "metadata": {},
     "output_type": "execute_result"
    }
   ],
   "source": [
    "D = dataset(\"datasets\", \"iris\")"
   ]
  },
  {
   "cell_type": "code",
   "execution_count": 3,
   "metadata": {},
   "outputs": [
    {
     "data": {
      "image/svg+xml": [
       "<?xml version=\"1.0\" encoding=\"UTF-8\"?>\n",
       "<svg xmlns=\"http://www.w3.org/2000/svg\" xmlns:xlink=\"http://www.w3.org/1999/xlink\" width=\"211.274pt\" height=\"174.855pt\" viewBox=\"0 0 211.274 174.855\" version=\"1.1\">\n",
       "<defs>\n",
       "<g>\n",
       "<symbol overflow=\"visible\" id=\"glyph-1535136525149331-0-0\">\n",
       "<path style=\"stroke:none;\" d=\"\"/>\n",
       "</symbol>\n",
       "<symbol overflow=\"visible\" id=\"glyph-1535136525149331-0-1\">\n",
       "<path style=\"stroke:none;\" d=\"M 2.9375 -1.640625 L 2.9375 -0.78125 C 2.9375 -0.421875 2.90625 -0.3125 2.171875 -0.3125 L 1.96875 -0.3125 L 1.96875 0 C 2.375 -0.03125 2.890625 -0.03125 3.3125 -0.03125 C 3.734375 -0.03125 4.25 -0.03125 4.671875 0 L 4.671875 -0.3125 L 4.453125 -0.3125 C 3.71875 -0.3125 3.703125 -0.421875 3.703125 -0.78125 L 3.703125 -1.640625 L 4.6875 -1.640625 L 4.6875 -1.953125 L 3.703125 -1.953125 L 3.703125 -6.484375 C 3.703125 -6.6875 3.703125 -6.75 3.53125 -6.75 C 3.453125 -6.75 3.421875 -6.75 3.34375 -6.625 L 0.28125 -1.953125 L 0.28125 -1.640625 Z M 2.984375 -1.953125 L 0.5625 -1.953125 L 2.984375 -5.671875 Z M 2.984375 -1.953125 \"/>\n",
       "</symbol>\n",
       "<symbol overflow=\"visible\" id=\"glyph-1535136525149331-0-2\">\n",
       "<path style=\"stroke:none;\" d=\"M 4.46875 -2 C 4.46875 -3.1875 3.65625 -4.1875 2.578125 -4.1875 C 2.109375 -4.1875 1.671875 -4.03125 1.3125 -3.671875 L 1.3125 -5.625 C 1.515625 -5.5625 1.84375 -5.5 2.15625 -5.5 C 3.390625 -5.5 4.09375 -6.40625 4.09375 -6.53125 C 4.09375 -6.59375 4.0625 -6.640625 3.984375 -6.640625 C 3.984375 -6.640625 3.953125 -6.640625 3.90625 -6.609375 C 3.703125 -6.515625 3.21875 -6.3125 2.546875 -6.3125 C 2.15625 -6.3125 1.6875 -6.390625 1.21875 -6.59375 C 1.140625 -6.625 1.125 -6.625 1.109375 -6.625 C 1 -6.625 1 -6.546875 1 -6.390625 L 1 -3.4375 C 1 -3.265625 1 -3.1875 1.140625 -3.1875 C 1.21875 -3.1875 1.234375 -3.203125 1.28125 -3.265625 C 1.390625 -3.421875 1.75 -3.96875 2.5625 -3.96875 C 3.078125 -3.96875 3.328125 -3.515625 3.40625 -3.328125 C 3.5625 -2.953125 3.59375 -2.578125 3.59375 -2.078125 C 3.59375 -1.71875 3.59375 -1.125 3.34375 -0.703125 C 3.109375 -0.3125 2.734375 -0.0625 2.28125 -0.0625 C 1.5625 -0.0625 0.984375 -0.59375 0.8125 -1.171875 C 0.84375 -1.171875 0.875 -1.15625 0.984375 -1.15625 C 1.3125 -1.15625 1.484375 -1.40625 1.484375 -1.640625 C 1.484375 -1.890625 1.3125 -2.140625 0.984375 -2.140625 C 0.84375 -2.140625 0.5 -2.0625 0.5 -1.609375 C 0.5 -0.75 1.1875 0.21875 2.296875 0.21875 C 3.453125 0.21875 4.46875 -0.734375 4.46875 -2 Z M 4.46875 -2 \"/>\n",
       "</symbol>\n",
       "<symbol overflow=\"visible\" id=\"glyph-1535136525149331-0-3\">\n",
       "<path style=\"stroke:none;\" d=\"M 1.3125 -3.265625 L 1.3125 -3.515625 C 1.3125 -6.03125 2.546875 -6.390625 3.0625 -6.390625 C 3.296875 -6.390625 3.71875 -6.328125 3.9375 -5.984375 C 3.78125 -5.984375 3.390625 -5.984375 3.390625 -5.546875 C 3.390625 -5.234375 3.625 -5.078125 3.84375 -5.078125 C 4 -5.078125 4.3125 -5.171875 4.3125 -5.5625 C 4.3125 -6.15625 3.875 -6.640625 3.046875 -6.640625 C 1.765625 -6.640625 0.421875 -5.359375 0.421875 -3.15625 C 0.421875 -0.484375 1.578125 0.21875 2.5 0.21875 C 3.609375 0.21875 4.5625 -0.71875 4.5625 -2.03125 C 4.5625 -3.296875 3.671875 -4.25 2.5625 -4.25 C 1.890625 -4.25 1.515625 -3.75 1.3125 -3.265625 Z M 2.5 -0.0625 C 1.875 -0.0625 1.578125 -0.65625 1.515625 -0.8125 C 1.328125 -1.28125 1.328125 -2.078125 1.328125 -2.25 C 1.328125 -3.03125 1.65625 -4.03125 2.546875 -4.03125 C 2.71875 -4.03125 3.171875 -4.03125 3.484375 -3.40625 C 3.65625 -3.046875 3.65625 -2.53125 3.65625 -2.046875 C 3.65625 -1.5625 3.65625 -1.0625 3.484375 -0.703125 C 3.1875 -0.109375 2.734375 -0.0625 2.5 -0.0625 Z M 2.5 -0.0625 \"/>\n",
       "</symbol>\n",
       "<symbol overflow=\"visible\" id=\"glyph-1535136525149331-0-4\">\n",
       "<path style=\"stroke:none;\" d=\"M 4.75 -6.078125 C 4.828125 -6.1875 4.828125 -6.203125 4.828125 -6.421875 L 2.40625 -6.421875 C 1.203125 -6.421875 1.171875 -6.546875 1.140625 -6.734375 L 0.890625 -6.734375 L 0.5625 -4.6875 L 0.8125 -4.6875 C 0.84375 -4.84375 0.921875 -5.46875 1.0625 -5.59375 C 1.125 -5.65625 1.90625 -5.65625 2.03125 -5.65625 L 4.09375 -5.65625 C 3.984375 -5.5 3.203125 -4.40625 2.984375 -4.078125 C 2.078125 -2.734375 1.75 -1.34375 1.75 -0.328125 C 1.75 -0.234375 1.75 0.21875 2.21875 0.21875 C 2.671875 0.21875 2.671875 -0.234375 2.671875 -0.328125 L 2.671875 -0.84375 C 2.671875 -1.390625 2.703125 -1.9375 2.78125 -2.46875 C 2.828125 -2.703125 2.953125 -3.5625 3.40625 -4.171875 Z M 4.75 -6.078125 \"/>\n",
       "</symbol>\n",
       "<symbol overflow=\"visible\" id=\"glyph-1535136525149331-0-5\">\n",
       "<path style=\"stroke:none;\" d=\"M 1.625 -4.5625 C 1.171875 -4.859375 1.125 -5.1875 1.125 -5.359375 C 1.125 -5.96875 1.78125 -6.390625 2.484375 -6.390625 C 3.203125 -6.390625 3.84375 -5.875 3.84375 -5.15625 C 3.84375 -4.578125 3.453125 -4.109375 2.859375 -3.765625 Z M 3.078125 -3.609375 C 3.796875 -3.984375 4.28125 -4.5 4.28125 -5.15625 C 4.28125 -6.078125 3.40625 -6.640625 2.5 -6.640625 C 1.5 -6.640625 0.6875 -5.90625 0.6875 -4.96875 C 0.6875 -4.796875 0.703125 -4.34375 1.125 -3.875 C 1.234375 -3.765625 1.609375 -3.515625 1.859375 -3.34375 C 1.28125 -3.046875 0.421875 -2.5 0.421875 -1.5 C 0.421875 -0.453125 1.4375 0.21875 2.484375 0.21875 C 3.609375 0.21875 4.5625 -0.609375 4.5625 -1.671875 C 4.5625 -2.03125 4.453125 -2.484375 4.0625 -2.90625 C 3.875 -3.109375 3.71875 -3.203125 3.078125 -3.609375 Z M 2.078125 -3.1875 L 3.3125 -2.40625 C 3.59375 -2.21875 4.0625 -1.921875 4.0625 -1.3125 C 4.0625 -0.578125 3.3125 -0.0625 2.5 -0.0625 C 1.640625 -0.0625 0.921875 -0.671875 0.921875 -1.5 C 0.921875 -2.078125 1.234375 -2.71875 2.078125 -3.1875 Z M 2.078125 -3.1875 \"/>\n",
       "</symbol>\n",
       "<symbol overflow=\"visible\" id=\"glyph-1535136525149331-0-6\">\n",
       "<path style=\"stroke:none;\" d=\"M 2.9375 -6.375 C 2.9375 -6.625 2.9375 -6.640625 2.703125 -6.640625 C 2.078125 -6 1.203125 -6 0.890625 -6 L 0.890625 -5.6875 C 1.09375 -5.6875 1.671875 -5.6875 2.1875 -5.953125 L 2.1875 -0.78125 C 2.1875 -0.421875 2.15625 -0.3125 1.265625 -0.3125 L 0.953125 -0.3125 L 0.953125 0 C 1.296875 -0.03125 2.15625 -0.03125 2.5625 -0.03125 C 2.953125 -0.03125 3.828125 -0.03125 4.171875 0 L 4.171875 -0.3125 L 3.859375 -0.3125 C 2.953125 -0.3125 2.9375 -0.421875 2.9375 -0.78125 Z M 2.9375 -6.375 \"/>\n",
       "</symbol>\n",
       "<symbol overflow=\"visible\" id=\"glyph-1535136525149331-0-7\">\n",
       "<path style=\"stroke:none;\" d=\"M 4.578125 -3.1875 C 4.578125 -3.984375 4.53125 -4.78125 4.1875 -5.515625 C 3.734375 -6.484375 2.90625 -6.640625 2.5 -6.640625 C 1.890625 -6.640625 1.171875 -6.375 0.75 -5.453125 C 0.4375 -4.765625 0.390625 -3.984375 0.390625 -3.1875 C 0.390625 -2.4375 0.421875 -1.546875 0.84375 -0.78125 C 1.265625 0.015625 2 0.21875 2.484375 0.21875 C 3.015625 0.21875 3.78125 0.015625 4.21875 -0.9375 C 4.53125 -1.625 4.578125 -2.40625 4.578125 -3.1875 Z M 2.484375 0 C 2.09375 0 1.5 -0.25 1.328125 -1.203125 C 1.21875 -1.796875 1.21875 -2.71875 1.21875 -3.3125 C 1.21875 -3.953125 1.21875 -4.609375 1.296875 -5.140625 C 1.484375 -6.328125 2.234375 -6.421875 2.484375 -6.421875 C 2.8125 -6.421875 3.46875 -6.234375 3.65625 -5.25 C 3.765625 -4.6875 3.765625 -3.9375 3.765625 -3.3125 C 3.765625 -2.5625 3.765625 -1.890625 3.65625 -1.25 C 3.5 -0.296875 2.9375 0 2.484375 0 Z M 2.484375 0 \"/>\n",
       "</symbol>\n",
       "<symbol overflow=\"visible\" id=\"glyph-1535136525149331-0-8\">\n",
       "<path style=\"stroke:none;\" d=\"M 1.265625 -0.765625 L 2.328125 -1.796875 C 3.875 -3.171875 4.46875 -3.703125 4.46875 -4.703125 C 4.46875 -5.84375 3.578125 -6.640625 2.359375 -6.640625 C 1.234375 -6.640625 0.5 -5.71875 0.5 -4.828125 C 0.5 -4.28125 1 -4.28125 1.03125 -4.28125 C 1.203125 -4.28125 1.546875 -4.390625 1.546875 -4.8125 C 1.546875 -5.0625 1.359375 -5.328125 1.015625 -5.328125 C 0.9375 -5.328125 0.921875 -5.328125 0.890625 -5.3125 C 1.109375 -5.96875 1.65625 -6.328125 2.234375 -6.328125 C 3.140625 -6.328125 3.5625 -5.515625 3.5625 -4.703125 C 3.5625 -3.90625 3.078125 -3.125 2.515625 -2.5 L 0.609375 -0.375 C 0.5 -0.265625 0.5 -0.234375 0.5 0 L 4.203125 0 L 4.46875 -1.734375 L 4.234375 -1.734375 C 4.171875 -1.4375 4.109375 -1 4 -0.84375 C 3.9375 -0.765625 3.28125 -0.765625 3.0625 -0.765625 Z M 1.265625 -0.765625 \"/>\n",
       "</symbol>\n",
       "</g>\n",
       "<clipPath id=\"clip-1535136525149331-1\">\n",
       "  <path d=\"M 16 25 L 211.273438 25 L 211.273438 149 L 16 149 Z M 16 25 \"/>\n",
       "</clipPath>\n",
       "<clipPath id=\"clip-1535136525149331-2\">\n",
       "  <path d=\"M 16 0 L 211.273438 0 L 211.273438 162 L 16 162 Z M 16 0 \"/>\n",
       "</clipPath>\n",
       "<clipPath id=\"clip-1535136525149331-3\">\n",
       "  <path d=\"M 32 13 L 195 13 L 195 161.59375 L 32 161.59375 Z M 32 13 \"/>\n",
       "</clipPath>\n",
       "<clipPath id=\"clip-1535136525149331-4\">\n",
       "  <path d=\"M 32 13 L 196 13 L 196 161.59375 L 32 161.59375 Z M 32 13 \"/>\n",
       "</clipPath>\n",
       "</defs>\n",
       "<g id=\"surface1\">\n",
       "<path style=\"fill:none;stroke-width:0.19925;stroke-linecap:butt;stroke-linejoin:miter;stroke:rgb(50%,50%,50%);stroke-opacity:1;stroke-miterlimit:10;\" d=\"M -13.493 -13.44975 L -13.493 -9.19975 M 31.479656 -13.44975 L 31.479656 -9.19975 M 76.448406 -13.44975 L 76.448406 -9.19975 M 121.421063 -13.44975 L 121.421063 -9.19975 M 166.389813 -13.44975 L 166.389813 -9.19975 M -13.493 147.948688 L -13.493 143.694781 M 31.479656 147.948688 L 31.479656 143.694781 M 76.448406 147.948688 L 76.448406 143.694781 M 121.421063 147.948688 L 121.421063 143.694781 M 166.389813 147.948688 L 166.389813 143.694781 \" transform=\"matrix(1,0,0,-1,32.993,148.144)\"/>\n",
       "<g clip-path=\"url(#clip-1535136525149331-1)\" clip-rule=\"nonzero\">\n",
       "<path style=\"fill:none;stroke-width:0.19925;stroke-linecap:butt;stroke-linejoin:miter;stroke:rgb(50%,50%,50%);stroke-opacity:1;stroke-miterlimit:10;\" d=\"M -16.192219 -0.00053125 L -11.938313 -0.00053125 M -16.192219 30.565875 L -11.938313 30.565875 M -16.192219 61.136188 L -11.938313 61.136188 M -16.192219 91.702594 L -11.938313 91.702594 M -16.192219 122.269 L -11.938313 122.269 M 178.085125 -0.00053125 L 173.831219 -0.00053125 M 178.085125 30.565875 L 173.831219 30.565875 M 178.085125 61.136188 L 173.831219 61.136188 M 178.085125 91.702594 L 173.831219 91.702594 M 178.085125 122.269 L 173.831219 122.269 \" transform=\"matrix(1,0,0,-1,32.993,148.144)\"/>\n",
       "</g>\n",
       "<g clip-path=\"url(#clip-1535136525149331-2)\" clip-rule=\"nonzero\">\n",
       "<path style=\"fill:none;stroke-width:0.3985;stroke-linecap:butt;stroke-linejoin:miter;stroke:rgb(0%,0%,0%);stroke-opacity:1;stroke-miterlimit:10;\" d=\"M -16.192219 -13.44975 L -16.192219 147.948688 L 178.085125 147.948688 L 178.085125 -13.44975 Z M -16.192219 -13.44975 \" transform=\"matrix(1,0,0,-1,32.993,148.144)\"/>\n",
       "</g>\n",
       "<g style=\"fill:rgb(0%,0%,0%);fill-opacity:1;\">\n",
       "  <use xlink:href=\"#glyph-1535136525149331-0-1\" x=\"17.011\" y=\"171.534\"/>\n",
       "</g>\n",
       "<g style=\"fill:rgb(0%,0%,0%);fill-opacity:1;\">\n",
       "  <use xlink:href=\"#glyph-1535136525149331-0-2\" x=\"61.981\" y=\"171.534\"/>\n",
       "</g>\n",
       "<g style=\"fill:rgb(0%,0%,0%);fill-opacity:1;\">\n",
       "  <use xlink:href=\"#glyph-1535136525149331-0-3\" x=\"106.951\" y=\"171.534\"/>\n",
       "</g>\n",
       "<g style=\"fill:rgb(0%,0%,0%);fill-opacity:1;\">\n",
       "  <use xlink:href=\"#glyph-1535136525149331-0-4\" x=\"151.921\" y=\"171.534\"/>\n",
       "</g>\n",
       "<g style=\"fill:rgb(0%,0%,0%);fill-opacity:1;\">\n",
       "  <use xlink:href=\"#glyph-1535136525149331-0-5\" x=\"196.891\" y=\"171.534\"/>\n",
       "</g>\n",
       "<g style=\"fill:rgb(0%,0%,0%);fill-opacity:1;\">\n",
       "  <use xlink:href=\"#glyph-1535136525149331-0-2\" x=\"8.302\" y=\"151.354\"/>\n",
       "</g>\n",
       "<g style=\"fill:rgb(0%,0%,0%);fill-opacity:1;\">\n",
       "  <use xlink:href=\"#glyph-1535136525149331-0-6\" x=\"3.321\" y=\"120.787\"/>\n",
       "  <use xlink:href=\"#glyph-1535136525149331-0-7\" x=\"8.30232\" y=\"120.787\"/>\n",
       "</g>\n",
       "<g style=\"fill:rgb(0%,0%,0%);fill-opacity:1;\">\n",
       "  <use xlink:href=\"#glyph-1535136525149331-0-6\" x=\"3.321\" y=\"90.22\"/>\n",
       "  <use xlink:href=\"#glyph-1535136525149331-0-2\" x=\"8.30232\" y=\"90.22\"/>\n",
       "</g>\n",
       "<g style=\"fill:rgb(0%,0%,0%);fill-opacity:1;\">\n",
       "  <use xlink:href=\"#glyph-1535136525149331-0-8\" x=\"3.321\" y=\"59.653\"/>\n",
       "  <use xlink:href=\"#glyph-1535136525149331-0-7\" x=\"8.30232\" y=\"59.653\"/>\n",
       "</g>\n",
       "<g style=\"fill:rgb(0%,0%,0%);fill-opacity:1;\">\n",
       "  <use xlink:href=\"#glyph-1535136525149331-0-8\" x=\"3.321\" y=\"29.086\"/>\n",
       "  <use xlink:href=\"#glyph-1535136525149331-0-2\" x=\"8.30232\" y=\"29.086\"/>\n",
       "</g>\n",
       "<g clip-path=\"url(#clip-1535136525149331-3)\" clip-rule=\"nonzero\">\n",
       "<path style=\" stroke:none;fill-rule:nonzero;fill:rgb(89.99939%,89.99939%,100%);fill-opacity:1;\" d=\"M 32.992188 161.59375 L 49.183594 161.59375 L 49.183594 123.691406 L 32.992188 123.691406 Z M 49.183594 161.59375 L 65.371094 161.59375 L 65.371094 38.101562 L 49.183594 38.101562 Z M 65.371094 161.59375 L 81.5625 161.59375 L 81.5625 93.121094 L 65.371094 93.121094 Z M 81.5625 161.59375 L 97.75 161.59375 L 97.75 13.648438 L 81.5625 13.648438 Z M 97.75 161.59375 L 113.941406 161.59375 L 113.941406 80.894531 L 97.75 80.894531 Z M 113.941406 161.59375 L 130.128906 161.59375 L 130.128906 19.761719 L 113.941406 19.761719 Z M 130.128906 161.59375 L 146.316406 161.59375 L 146.316406 68.667969 L 130.128906 68.667969 Z M 146.316406 161.59375 L 162.507812 161.59375 L 162.507812 142.03125 L 146.316406 142.03125 Z M 162.507812 161.59375 L 178.695312 161.59375 L 178.695312 148.144531 L 162.507812 148.144531 Z M 178.695312 161.59375 L 194.886719 161.59375 L 194.886719 142.03125 L 178.695312 142.03125 Z M 178.695312 161.59375 \"/>\n",
       "</g>\n",
       "<g clip-path=\"url(#clip-1535136525149331-4)\" clip-rule=\"nonzero\">\n",
       "<path style=\"fill:none;stroke-width:0.3985;stroke-linecap:butt;stroke-linejoin:miter;stroke:rgb(0%,0%,100%);stroke-opacity:1;stroke-miterlimit:10;\" d=\"M -0.0008125 -13.44975 L 16.190594 -13.44975 L 16.190594 24.452594 L -0.0008125 24.452594 Z M 16.190594 -13.44975 L 32.378094 -13.44975 L 32.378094 110.042438 L 16.190594 110.042438 Z M 32.378094 -13.44975 L 48.5695 -13.44975 L 48.5695 55.022906 L 32.378094 55.022906 Z M 48.5695 -13.44975 L 64.757 -13.44975 L 64.757 134.495563 L 48.5695 134.495563 Z M 64.757 -13.44975 L 80.948406 -13.44975 L 80.948406 67.249469 L 64.757 67.249469 Z M 80.948406 -13.44975 L 97.135906 -13.44975 L 97.135906 128.382281 L 80.948406 128.382281 Z M 97.135906 -13.44975 L 113.323406 -13.44975 L 113.323406 79.476031 L 97.135906 79.476031 Z M 113.323406 -13.44975 L 129.514813 -13.44975 L 129.514813 6.11275 L 113.323406 6.11275 Z M 129.514813 -13.44975 L 145.702313 -13.44975 L 145.702313 -0.00053125 L 129.514813 -0.00053125 Z M 145.702313 -13.44975 L 161.893719 -13.44975 L 161.893719 6.11275 L 145.702313 6.11275 Z M 145.702313 -13.44975 \" transform=\"matrix(1,0,0,-1,32.993,148.144)\"/>\n",
       "</g>\n",
       "</g>\n",
       "</svg>\n",
       "\n"
      ],
      "text/plain": [
       "PGFPlots.Plots.Histogram(Real[5.1, 4.9, 4.7, 4.6, 5.0, 5.4, 4.6, 5.0, 4.4, 4.9  …  6.7, 6.9, 5.8, 6.8, 6.7, 6.7, 6.3, 6.5, 6.2, 5.9], 10, false, false, \"fill=blue!10\", :default)"
      ]
     },
     "execution_count": 3,
     "metadata": {},
     "output_type": "execute_result"
    }
   ],
   "source": [
    "d = D[:SepalLength]\n",
    "Plots.Histogram(d)"
   ]
  },
  {
   "cell_type": "code",
   "execution_count": 4,
   "metadata": {},
   "outputs": [
    {
     "ename": "LoadError",
     "evalue": "function Tuple does not accept keyword arguments",
     "output_type": "error",
     "traceback": [
      "function Tuple does not accept keyword arguments",
      "",
      "Stacktrace:",
      " [1] kwfunc(::Any) at ./boot.jl:321",
      " [2] #Linear#41(::Int64, ::String, ::Nothing, ::Nothing, ::Type, ::Function, ::Tuple{Int64,Int64}) at /Users/shushmanchoudhury/.julia/dev/PGFPlots/src/PGFPlots.jl:705",
      " [3] PGFPlots.Plots.Linear(::Function, ::Tuple{Int64,Int64}) at /Users/shushmanchoudhury/.julia/dev/PGFPlots/src/PGFPlots.jl:705",
      " [4] top-level scope at none:0"
     ]
    }
   ],
   "source": [
    "dist = fit_mle(Normal, d)\n",
    "g = Axis([\n",
    "    Plots.Histogram(d, density=true),\n",
    "    Plots.Linear(x->pdf(dist,x), (4,8))\n",
    "]\n",
    ")\n",
    "display(g)\n",
    "display(dist)"
   ]
  },
  {
   "cell_type": "markdown",
   "metadata": {},
   "source": [
    "## Bayesian parameter learning"
   ]
  },
  {
   "cell_type": "code",
   "execution_count": 5,
   "metadata": {},
   "outputs": [],
   "source": [
    "# small helper function for plotting Beta distributions\n",
    "PGFPlots.plot(d::Beta) = plot(x->pdf(d, x), (0,1));"
   ]
  },
  {
   "cell_type": "code",
   "execution_count": 6,
   "metadata": {},
   "outputs": [
    {
     "ename": "LoadError",
     "evalue": "function Tuple does not accept keyword arguments",
     "output_type": "error",
     "traceback": [
      "function Tuple does not accept keyword arguments",
      "",
      "Stacktrace:",
      " [1] kwfunc(::Any) at ./boot.jl:321",
      " [2] #Linear#41(::Int64, ::String, ::Nothing, ::Nothing, ::Type, ::Function, ::Tuple{Int64,Int64}) at /Users/shushmanchoudhury/.julia/dev/PGFPlots/src/PGFPlots.jl:705",
      " [3] Type at /Users/shushmanchoudhury/.julia/dev/PGFPlots/src/PGFPlots.jl:705 [inlined]",
      " [4] #plot#42 at /Users/shushmanchoudhury/.julia/dev/PGFPlots/src/PGFPlots.jl:709 [inlined]",
      " [5] plot at /Users/shushmanchoudhury/.julia/dev/PGFPlots/src/PGFPlots.jl:709 [inlined]",
      " [6] plot(::Beta{Float64}) at ./In[5]:2",
      " [7] top-level scope at none:0"
     ]
    }
   ],
   "source": [
    "prior = Beta(6,2)\n",
    "plot(prior)"
   ]
  },
  {
   "cell_type": "code",
   "execution_count": 7,
   "metadata": {},
   "outputs": [
    {
     "data": {
      "text/plain": [
       "Beta{Float64}(α=6.0, β=2.0)"
      ]
     },
     "execution_count": 7,
     "metadata": {},
     "output_type": "execute_result"
    }
   ],
   "source": [
    "prior"
   ]
  },
  {
   "cell_type": "code",
   "execution_count": 8,
   "metadata": {},
   "outputs": [
    {
     "data": {
      "text/plain": [
       "posterior (generic function with 1 method)"
      ]
     },
     "execution_count": 8,
     "metadata": {},
     "output_type": "execute_result"
    }
   ],
   "source": [
    "posterior(d::Beta, x) = Beta(d.α + sum(x .== 1), d.β + sum(x .== 0))"
   ]
  },
  {
   "cell_type": "code",
   "execution_count": 9,
   "metadata": {},
   "outputs": [
    {
     "data": {
      "text/plain": [
       "Beta{Float64}(α=7.0, β=4.0)"
      ]
     },
     "execution_count": 9,
     "metadata": {},
     "output_type": "execute_result"
    }
   ],
   "source": [
    "# The posterior function is provided by distributions.jl\n",
    "post = posterior(prior, [0, 0, 1])"
   ]
  },
  {
   "cell_type": "code",
   "execution_count": 10,
   "metadata": {},
   "outputs": [
    {
     "ename": "LoadError",
     "evalue": "function Tuple does not accept keyword arguments",
     "output_type": "error",
     "traceback": [
      "function Tuple does not accept keyword arguments",
      "",
      "Stacktrace:",
      " [1] kwfunc(::Any) at ./boot.jl:321",
      " [2] #Linear#41(::Int64, ::String, ::Nothing, ::Nothing, ::Type, ::Function, ::Tuple{Int64,Int64}) at /Users/shushmanchoudhury/.julia/dev/PGFPlots/src/PGFPlots.jl:705",
      " [3] Type at /Users/shushmanchoudhury/.julia/dev/PGFPlots/src/PGFPlots.jl:705 [inlined]",
      " [4] #plot#42 at /Users/shushmanchoudhury/.julia/dev/PGFPlots/src/PGFPlots.jl:709 [inlined]",
      " [5] plot at /Users/shushmanchoudhury/.julia/dev/PGFPlots/src/PGFPlots.jl:709 [inlined]",
      " [6] plot(::Beta{Float64}) at ./In[5]:2",
      " [7] top-level scope at none:0"
     ]
    }
   ],
   "source": [
    "plot(post)"
   ]
  },
  {
   "cell_type": "markdown",
   "metadata": {},
   "source": [
    "## Nonparametric parameter learning"
   ]
  },
  {
   "cell_type": "code",
   "execution_count": 11,
   "metadata": {},
   "outputs": [
    {
     "ename": "LoadError",
     "evalue": "function Tuple does not accept keyword arguments",
     "output_type": "error",
     "traceback": [
      "function Tuple does not accept keyword arguments",
      "",
      "Stacktrace:",
      " [1] kwfunc(::Any) at ./boot.jl:321",
      " [2] #Linear#41(::Int64, ::String, ::Nothing, ::Nothing, ::Type, ::Function, ::Tuple{Int64,Int64}) at /Users/shushmanchoudhury/.julia/dev/PGFPlots/src/PGFPlots.jl:705",
      " [3] PGFPlots.Plots.Linear(::Function, ::Tuple{Int64,Int64}) at /Users/shushmanchoudhury/.julia/dev/PGFPlots/src/PGFPlots.jl:705",
      " [4] top-level scope at none:0"
     ]
    }
   ],
   "source": [
    "bandwith = 0.2\n",
    "# kernel\n",
    "K(x) = pdf(Normal(0,bandwith), x)\n",
    "# nonparametric density function\n",
    "p(x) = sum([K(x - o) for o in d])/length(d)\n",
    "# plot result, comparing with histogram\n",
    "g = Axis([\n",
    "    Plots.Histogram(d, density=true, bins=30),\n",
    "    Plots.Linear(p, (4,8))\n",
    "])"
   ]
  },
  {
   "cell_type": "code",
   "execution_count": 13,
   "metadata": {},
   "outputs": [
    {
     "ename": "LoadError",
     "evalue": "function Tuple does not accept keyword arguments",
     "output_type": "error",
     "traceback": [
      "function Tuple does not accept keyword arguments",
      "",
      "Stacktrace:",
      " [1] kwfunc(::Any) at ./boot.jl:321",
      " [2] #Linear#41(::Int64, ::String, ::Nothing, ::Nothing, ::Type, ::Function, ::Tuple{Int64,Int64}) at /Users/shushmanchoudhury/.julia/dev/PGFPlots/src/PGFPlots.jl:705",
      " [3] PGFPlots.Plots.Linear(::Function, ::Tuple{Int64,Int64}) at /Users/shushmanchoudhury/.julia/dev/PGFPlots/src/PGFPlots.jl:705",
      " [4] top-level scope at In[13]:9"
     ]
    }
   ],
   "source": [
    "bandwidths = [0.01, 0.1, 0.2, 0.5]\n",
    "gp = GroupPlot(2,2)\n",
    "for bandwidth in bandwidths\n",
    "    # kernel\n",
    "    local K(x) = pdf(Normal(0,bandwidth), x)\n",
    "    # nonparametric density function\n",
    "    local p(x) = sum([K(x - o) for o in d])/length(d)\n",
    "    # plot result, comparing with histogram\n",
    "    g = Axis([\n",
    "        Plots.Histogram(d, density=true, bins=30),\n",
    "        Plots.Linear(p, (4,8))\n",
    "        ], title = bandwidth)\n",
    "    push!(gp, g)\n",
    "end\n",
    "gp"
   ]
  },
  {
   "cell_type": "code",
   "execution_count": null,
   "metadata": {},
   "outputs": [],
   "source": []
  }
 ],
 "metadata": {
  "kernelspec": {
   "display_name": "Julia 0.7.0",
   "language": "julia",
   "name": "julia-0.7"
  },
  "language_info": {
   "file_extension": ".jl",
   "mimetype": "application/julia",
   "name": "julia",
   "version": "0.7.0"
  }
 },
 "nbformat": 4,
 "nbformat_minor": 1
}
